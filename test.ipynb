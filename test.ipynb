{
 "cells": [
  {
   "cell_type": "code",
   "execution_count": 1,
   "metadata": {},
   "outputs": [
    {
     "name": "stdout",
     "output_type": "stream",
     "text": [
      "  R.Condition  R.Replicate               R.FileName PG.ProteinGroupID  \\\n",
      "0        Sham            1  20150706_13_sample1_DIA           n. def.   \n",
      "1        Sham            1  20150706_13_sample1_DIA           n. def.   \n",
      "2        Sham            1  20150706_13_sample1_DIA           n. def.   \n",
      "\n",
      "   PG.UniProtId  EG.iRTPredicted                          EG.Library  \\\n",
      "0           NaN        69.739998  p1503_default_top10min3SpecLib.txt   \n",
      "1           NaN        69.739998  p1503_default_top10min3SpecLib.txt   \n",
      "2           NaN        69.739998  p1503_default_top10min3SpecLib.txt   \n",
      "\n",
      "  EG.PrecursorId EG.StrippedSequence EG.ModifiedSequence         ...          \\\n",
      "0      ALFVQIR.2             ALFVQIR             ALFVQIR         ...           \n",
      "1      ALFVQIR.2             ALFVQIR             ALFVQIR         ...           \n",
      "2      ALFVQIR.2             ALFVQIR             ALFVQIR         ...           \n",
      "\n",
      "  F.FrgLossType     F.FrgMz F.PredictedRelativeIntensity  F.InterferenceScore  \\\n",
      "0       n. def.  662.398438                          100                    0   \n",
      "1       n. def.  515.330017                           32   0.0542757250368595   \n",
      "2       n. def.  775.482483                            3                    0   \n",
      "\n",
      "  F.PossibleInterference F.Log10SignalToNoise          F.PeakArea  \\\n",
      "0                  False     0.28776752948761   0.110436096787453   \n",
      "1                  False      3.3969395160675    60.6892318725586   \n",
      "2                  False    0.221987754106522  0.0807792246341705   \n",
      "\n",
      "        F.PeakHeight F.MeasuredRelativeIntensity F.ExcludedFromQuantification  \n",
      "0   0.99947988986969          0.0842049047350883                        False  \n",
      "1   1186.96154785156                         100                        False  \n",
      "2  0.290722012519836          0.0244929604232311                        False  \n",
      "\n",
      "[3 rows x 51 columns]\n"
     ]
    }
   ],
   "source": [
    "import pandas as pd\n",
    "\n",
    "\n",
    "df = pd.read_table('/Users/witold/prog/imsbInfer/playground/20150806_180226_p1503_Sham_VS_Transection_Report.xls',header=0, low_memory=False)\n",
    "\n",
    "print(df.head(3))"
   ]
  },
  {
   "cell_type": "code",
   "execution_count": 3,
   "metadata": {},
   "outputs": [
    {
     "name": "stdout",
     "output_type": "stream",
     "text": [
      "         R.Replicate  PG.UniProtId  EG.iRTPredicted EG.IsDecoy  \\\n",
      "count  727540.000000             0    727540.000000     727540   \n",
      "mean        3.727273           NaN        48.208597          0   \n",
      "std         1.600621           NaN        42.579595          0   \n",
      "min         1.000000           NaN       -47.779999      False   \n",
      "25%         2.000000           NaN        18.340000          0   \n",
      "50%         4.000000           NaN        46.230000          0   \n",
      "75%         5.000000           NaN        79.809998          0   \n",
      "max         6.000000           NaN       164.380005      False   \n",
      "\n",
      "       EG.RTPredicted  FG.PrecWindowNumber      FG.Charge      FG.PrecMz  \\\n",
      "count   727540.000000        727540.000000  727540.000000  727540.000000   \n",
      "mean        57.942658            11.669837       2.445343     705.933472   \n",
      "std         25.969864             7.663685       0.638634     191.583326   \n",
      "min          0.000000             0.000000       2.000000     401.532349   \n",
      "25%         39.467886             5.000000       2.000000     547.807007   \n",
      "50%         56.704529            11.000000       2.000000     683.917358   \n",
      "75%         76.680298            17.000000       3.000000     835.485962   \n",
      "max        131.101444            31.000000       6.000000    1200.903809   \n",
      "\n",
      "              F.FrgZ       F.FrgNum        F.FrgMz  \\\n",
      "count  727540.000000  727540.000000  727540.000000   \n",
      "mean        1.044784       6.310493     704.230777   \n",
      "std         0.206829       2.671367     256.151468   \n",
      "min         1.000000       2.000000     300.119019   \n",
      "25%         1.000000       4.000000     486.221420   \n",
      "50%         1.000000       6.000000     686.419556   \n",
      "75%         1.000000       8.000000     902.537964   \n",
      "max         2.000000      25.000000    1249.762695   \n",
      "\n",
      "       F.PredictedRelativeIntensity F.PossibleInterference  \\\n",
      "count                 727540.000000                 727540   \n",
      "mean                      34.535168              0.1376172   \n",
      "std                       28.904224               0.344498   \n",
      "min                        0.000000                  False   \n",
      "25%                       12.000000                      0   \n",
      "50%                       25.000000                      0   \n",
      "75%                       49.000000                      0   \n",
      "max                      100.000000                   True   \n",
      "\n",
      "      F.ExcludedFromQuantification  \n",
      "count                       727540  \n",
      "mean                     0.3451329  \n",
      "std                      0.4754119  \n",
      "min                          False  \n",
      "25%                              0  \n",
      "50%                              0  \n",
      "75%                              1  \n",
      "max                           True  \n"
     ]
    }
   ],
   "source": [
    "print(df.describe())"
   ]
  },
  {
   "cell_type": "code",
   "execution_count": 4,
   "metadata": {},
   "outputs": [
    {
     "name": "stdout",
     "output_type": "stream",
     "text": [
      "['R.Condition', 'R.Replicate', 'R.FileName', 'PG.ProteinGroupID', 'PG.UniProtId', 'EG.iRTPredicted', 'EG.Library', 'EG.PrecursorId', 'EG.StrippedSequence', 'EG.ModifiedSequence', 'EG.IsDecoy', 'EG.iRTEmpirical', 'EG.MeanApexRT', 'EG.RTPredicted', 'EG.MeanTailingFactor', 'EG.DatapointsPerPeak', 'EG.DeltaiRT', 'EG.IntCorrScore', 'EG.Cscore', 'EG.Qvalue', 'EG.Svalue', 'EG.SignalToNoise', 'EG.AreaCV', 'EG.AvgProfileQvalue', 'FG.PrecWindowNumber', 'FG.Id', 'FG.Charge', 'FG.PrecMz', 'FG.IsotopeLabelType', 'FG.MeanApexRT', 'FG.MeanFWHM', 'FG.MeanTailingFactor', 'FG.TotalPeakArea', 'FG.Ms1PeakArea', 'FG.TotalPeakHeight', 'FG.Ms1PeakHeight', 'FG.SignalToNoise', 'F.FrgZ', 'F.FrgType', 'F.FrgNum', 'F.FrgIon', 'F.FrgLossType', 'F.FrgMz', 'F.PredictedRelativeIntensity', 'F.InterferenceScore', 'F.PossibleInterference', 'F.Log10SignalToNoise', 'F.PeakArea', 'F.PeakHeight', 'F.MeasuredRelativeIntensity', 'F.ExcludedFromQuantification']\n"
     ]
    }
   ],
   "source": [
    "tmp = list(df.columns.values)\n",
    "print(tmp)"
   ]
  },
  {
   "cell_type": "code",
   "execution_count": 5,
   "metadata": {},
   "outputs": [
    {
     "data": {
      "text/plain": [
       "0     n. def.\n",
       "1     n. def.\n",
       "2     n. def.\n",
       "3     n. def.\n",
       "4     n. def.\n",
       "5     n. def.\n",
       "6     n. def.\n",
       "7     n. def.\n",
       "8     n. def.\n",
       "9     n. def.\n",
       "10    n. def.\n",
       "11    n. def.\n",
       "12    n. def.\n",
       "13    n. def.\n",
       "14    n. def.\n",
       "...\n",
       "727525    zz|ZZ_FGCZCont0260|\n",
       "727526    zz|ZZ_FGCZCont0260|\n",
       "727527    zz|ZZ_FGCZCont0260|\n",
       "727528    zz|ZZ_FGCZCont0260|\n",
       "727529    zz|ZZ_FGCZCont0260|\n",
       "727530    zz|ZZ_FGCZCont0260|\n",
       "727531    zz|ZZ_FGCZCont0260|\n",
       "727532    zz|ZZ_FGCZCont0260|\n",
       "727533    zz|ZZ_FGCZCont0260|\n",
       "727534    zz|ZZ_FGCZCont0260|\n",
       "727535    zz|ZZ_FGCZCont0260|\n",
       "727536    zz|ZZ_FGCZCont0260|\n",
       "727537    zz|ZZ_FGCZCont0260|\n",
       "727538    zz|ZZ_FGCZCont0260|\n",
       "727539    zz|ZZ_FGCZCont0260|\n",
       "Name: PG.ProteinGroupID, Length: 727540, dtype: object"
      ]
     },
     "execution_count": 5,
     "output_type": "execute_result",
     "metadata": {}
    }
   ],
   "source": [
    "df[\"PG.ProteinGroupID\"]"
   ]
  },
  {
   "cell_type": "code",
   "execution_count": 9,
   "metadata": {},
   "outputs": [
    {
     "name": "stdout",
     "output_type": "stream",
     "text": [
      "Int64Index([0, 1, 2, 3, 4, 5, 6, 7, 8, 9, 10, 11, 12, 13, 14, 15, 16, 17, 18, 19, 20, 21, 22, 23, 24, 25, 26, 27, 28, 29, 30, 31, 32, 33, 34, 35, 36, 37, 38, 39, 40, 41, 42, 43, 44, 45, 46, 47, 48, 49, 50, 51, 52, 53, 54, 55, 56, 57, 58, 59, 60, 61, 62, 63, 64, 65, 66, 67, 68, 69, 70, 71, 72, 73, 74, 75, 76, 77, 78, 79, 80, 81, 82, 83, 84, 85, 86, 87, 88, 89, 90, 91, 92, 93, 94, 95, 96, 97, 98, 99, ...], dtype='int64')\n",
      "1\n"
     ]
    }
   ],
   "source": [
    "idx = df.index\n",
    "print(idx)\n",
    "i = idx.nlevels\n",
    "print(i)"
   ]
  },
  {
   "cell_type": "code",
   "execution_count": 10,
   "metadata": {},
   "outputs": [
    {
     "data": {
      "text/plain": [
       "1355    sp|A0JNT9|BICR1_MOUSE;sp|A0JNT9-3|BICR1_MOUSE;...\n",
       "1356    sp|A0JNT9|BICR1_MOUSE;sp|A0JNT9-3|BICR1_MOUSE;...\n",
       "1357    sp|A0JNT9|BICR1_MOUSE;sp|A0JNT9-3|BICR1_MOUSE;...\n",
       "1358                                sp|A2A3V1|AK17B_MOUSE\n",
       "1359                                sp|A2A3V1|AK17B_MOUSE\n",
       "1360                                sp|A2A3V1|AK17B_MOUSE\n",
       "1361                                sp|A2A3V1|AK17B_MOUSE\n",
       "1362                                sp|A2A3V1|AK17B_MOUSE\n",
       "1363                                sp|A2A3V1|AK17B_MOUSE\n",
       "1364                                sp|A2A3V1|AK17B_MOUSE\n",
       "1365                                 sp|A2A5R2|BIG2_MOUSE\n",
       "1366                                 sp|A2A5R2|BIG2_MOUSE\n",
       "1367                                 sp|A2A5R2|BIG2_MOUSE\n",
       "1368                                 sp|A2A5R2|BIG2_MOUSE\n",
       "1369                                 sp|A2A5R2|BIG2_MOUSE\n",
       "...\n",
       "727525    zz|ZZ_FGCZCont0260|\n",
       "727526    zz|ZZ_FGCZCont0260|\n",
       "727527    zz|ZZ_FGCZCont0260|\n",
       "727528    zz|ZZ_FGCZCont0260|\n",
       "727529    zz|ZZ_FGCZCont0260|\n",
       "727530    zz|ZZ_FGCZCont0260|\n",
       "727531    zz|ZZ_FGCZCont0260|\n",
       "727532    zz|ZZ_FGCZCont0260|\n",
       "727533    zz|ZZ_FGCZCont0260|\n",
       "727534    zz|ZZ_FGCZCont0260|\n",
       "727535    zz|ZZ_FGCZCont0260|\n",
       "727536    zz|ZZ_FGCZCont0260|\n",
       "727537    zz|ZZ_FGCZCont0260|\n",
       "727538    zz|ZZ_FGCZCont0260|\n",
       "727539    zz|ZZ_FGCZCont0260|\n",
       "Name: PG.ProteinGroupID, Length: 712635, dtype: object"
      ]
     },
     "execution_count": 10,
     "output_type": "execute_result",
     "metadata": {}
    }
   ],
   "source": [
    "dfProtID = df[df['PG.ProteinGroupID'] != 'n. def.']\n",
    "dfProtID['PG.ProteinGroupID']"
   ]
  },
  {
   "cell_type": "code",
   "execution_count": 11,
   "metadata": {},
   "outputs": [
    {
     "data": {
      "text/plain": [
       "True"
      ]
     },
     "execution_count": 11,
     "output_type": "execute_result",
     "metadata": {}
    }
   ],
   "source": [
    "df.at[1, 'PG.ProteinGroupID'] == 'n. def.'"
   ]
  },
  {
   "cell_type": "code",
   "execution_count": 12,
   "metadata": {},
   "outputs": [
    {
     "data": {
      "text/plain": [
       "1824"
      ]
     },
     "execution_count": 12,
     "output_type": "execute_result",
     "metadata": {}
    }
   ],
   "source": [
    "len(dfProtID['PG.ProteinGroupID'].unique())"
   ]
  },
  {
   "cell_type": "code",
   "execution_count": 13,
   "metadata": {},
   "outputs": [
    {
     "name": "stdout",
     "output_type": "stream",
     "text": [
      "2\n",
      "6\n",
      "11\n",
      "1824\n",
      "1\n",
      "6423\n",
      "1\n",
      "8840\n",
      "7080\n",
      "7473\n",
      "1\n",
      "96037\n",
      "95811\n",
      "70653\n",
      "96642\n",
      "58\n",
      "96910\n",
      "94456\n",
      "96466\n",
      "57489\n",
      "86745\n",
      "96861\n",
      "8800\n",
      "7612\n",
      "32\n",
      "8840\n",
      "5\n",
      "8795\n",
      "1\n",
      "95530\n",
      "63738\n",
      "96642\n",
      "96918\n",
      "96879\n",
      "96782\n",
      "95097\n",
      "96861\n",
      "2\n",
      "2\n",
      "24\n",
      "47\n",
      "1\n",
      "22752\n",
      "101\n",
      "518657\n",
      "2\n",
      "685147\n",
      "704298\n",
      "686534\n",
      "598436\n",
      "2\n"
     ]
    }
   ],
   "source": [
    "for colname in dfProtID.columns.values:\n",
    "    print len(dfProtID[colname].unique())"
   ]
  },
  {
   "cell_type": "code",
   "execution_count": null,
   "metadata": {},
   "outputs": [],
   "source": [
    ""
   ]
  }
 ],
 "metadata": {
  "kernelspec": {
   "display_name": "Python 2",
   "language": "python",
   "name": "python2"
  },
  "language_info": {
   "codemirror_mode": {
    "name": "ipython",
    "version": 2.0
   },
   "file_extension": ".py",
   "mimetype": "text/x-python",
   "name": "python",
   "nbconvert_exporter": "python",
   "pygments_lexer": "ipython2",
   "version": "2.7.9"
  }
 },
 "nbformat": 4,
 "nbformat_minor": 0
}